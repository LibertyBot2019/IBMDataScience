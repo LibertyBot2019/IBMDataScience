{
    "cells": [
        {
            "cell_type": "markdown",
            "metadata": {
                "collapsed": true
            },
            "source": "# Recommendation System for Tourists to find a hotel in preferred Neighborhoods in NYC"
        },
        {
            "cell_type": "markdown",
            "metadata": {},
            "source": "### Report of the final project - capstone project in IBM data science courses"
        },
        {
            "cell_type": "markdown",
            "metadata": {},
            "source": " "
        },
        {
            "cell_type": "markdown",
            "metadata": {},
            "source": " "
        },
        {
            "cell_type": "markdown",
            "metadata": {},
            "source": " "
        },
        {
            "cell_type": "markdown",
            "metadata": {},
            "source": " "
        },
        {
            "cell_type": "markdown",
            "metadata": {},
            "source": "###                               Table of Contents"
        },
        {
            "cell_type": "markdown",
            "metadata": {},
            "source": "###### 1. Introduction\n###### 2. Data\n###### 3. Methodology\n###### 4. Machine Learning Analysis\n###### 5. Results\n###### 6. Discussion"
        },
        {
            "cell_type": "markdown",
            "metadata": {},
            "source": " "
        },
        {
            "cell_type": "markdown",
            "metadata": {},
            "source": " "
        },
        {
            "cell_type": "markdown",
            "metadata": {},
            "source": "## 1. Introduction"
        },
        {
            "cell_type": "markdown",
            "metadata": {},
            "source": "#### 1.1 The background"
        },
        {
            "cell_type": "markdown",
            "metadata": {},
            "source": "New York city is one of the most popular tourist cities. This city received a ninth consecutive annual record on tourist population and welcomed approximately 65.2 million visitors in 2018, includling overall 37.9 million visitors who stayed overnight in 2018. When people decide to visit a city, the first step they will do is going to a website to reserve fly and hotel. Lots of visitors might want to book a hotel sorrounded by restoraunts near by, so they can have nice dining out, and taste different styles and delicious foods during their visit in NYC. \n\nHowever, there is not even a tour website provides a function to help visitors to find their most favorite hotel neighborhood. For example, Booking.com is a famous website for Booking Accommodations. This website just put together several menus for their customers to search different accommondations seperately. For example, if you search hotels, you just got a result of hotel list, if you want to know the surrounding accommodations,such as restourants and public transport stations, you need to do a lot of extra searches on other search engines. \n\nThis project is about to a recommendation system to help tourist to find their most favorable neighbohood to stay in NYC to stay and explore the surroundings of the hotel interested by customers based on their preferred features. "
        },
        {
            "cell_type": "markdown",
            "metadata": {},
            "source": "#### 1.2 Problem description"
        },
        {
            "cell_type": "markdown",
            "metadata": {},
            "source": "Suppose a family wants to take their vocation in NYC. First of all, since NYC is known as a famous congested traffic city, and its parking spot is always limited, this family choose public transportation instead of self-driving. Second, they also want to stay in a comfort hotel which has a lot of restaurants in a walking distance, so they can easily have nice lunchs or diners in nearby restaurants during their stay, further more, they might prefer some styles food, for example, Chinese food. Third, they might want one or more train station within working distance.\n\nFrom a data scientist's view, this problem is discripted as a family wants a hotel( a GPS point) meets two requirments:\n\n1) In a neighbourhood with many restaurants nearby.\n\n2) Prefer Chinese food.\n\n3) Prefer tran stations in walking distance."
        },
        {
            "cell_type": "code",
            "execution_count": null,
            "metadata": {},
            "outputs": [],
            "source": ""
        }
    ],
    "metadata": {
        "kernelspec": {
            "display_name": "Python 3.6",
            "language": "python",
            "name": "python3"
        },
        "language_info": {
            "codemirror_mode": {
                "name": "ipython",
                "version": 3
            },
            "file_extension": ".py",
            "mimetype": "text/x-python",
            "name": "python",
            "nbconvert_exporter": "python",
            "pygments_lexer": "ipython3",
            "version": "3.6.9"
        }
    },
    "nbformat": 4,
    "nbformat_minor": 1
}